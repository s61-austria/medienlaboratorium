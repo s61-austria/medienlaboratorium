{
 "cells": [
  {
   "cell_type": "code",
   "execution_count": 1,
   "metadata": {},
   "outputs": [],
   "source": [
    "from uuid import uuid1\n",
    "import random"
   ]
  },
  {
   "cell_type": "code",
   "execution_count": 2,
   "metadata": {},
   "outputs": [],
   "source": [
    "class Car:\n",
    "    def __init__(self):\n",
    "        self.id = str(uuid1())\n",
    "        self.type = \"Car\"\n",
    "\n",
    "class Person:\n",
    "    def __init__(self):\n",
    "        self.id = str(uuid1())\n",
    "        self.type = \"Person\"\n",
    "        self.cars = []\n",
    "        \n",
    "    def add_car(self, car):\n",
    "        self.cars.append(car)"
   ]
  },
  {
   "cell_type": "code",
   "execution_count": 3,
   "metadata": {},
   "outputs": [],
   "source": [
    "cars = [Car() for x in range(0, 1000)]"
   ]
  },
  {
   "cell_type": "code",
   "execution_count": 4,
   "metadata": {},
   "outputs": [],
   "source": [
    "persons = [Person() for x in range(0, 100)]"
   ]
  },
  {
   "cell_type": "code",
   "execution_count": 5,
   "metadata": {},
   "outputs": [
    {
     "data": {
      "text/plain": [
       "[<__main__.Car at 0x7fcc00238748>,\n",
       " <__main__.Car at 0x7fcc00218ba8>,\n",
       " <__main__.Car at 0x7fcc001c6518>,\n",
       " <__main__.Car at 0x7fcc00218390>,\n",
       " <__main__.Car at 0x7fcc00233fd0>,\n",
       " <__main__.Car at 0x7fcc0022e470>,\n",
       " <__main__.Car at 0x7fcc00233710>,\n",
       " <__main__.Car at 0x7fcc0020e550>,\n",
       " <__main__.Car at 0x7fcc0021cda0>,\n",
       " <__main__.Car at 0x7fcc00209f60>,\n",
       " <__main__.Car at 0x7fcc00238278>,\n",
       " <__main__.Car at 0x7fcc0021ce10>,\n",
       " <__main__.Car at 0x7fcc00213780>,\n",
       " <__main__.Car at 0x7fcc001c1c88>,\n",
       " <__main__.Car at 0x7fcc002384a8>,\n",
       " <__main__.Car at 0x7fcc001c6080>,\n",
       " <__main__.Car at 0x7fcc001c6f98>,\n",
       " <__main__.Car at 0x7fcc0021ce10>,\n",
       " <__main__.Car at 0x7fcc00221278>,\n",
       " <__main__.Car at 0x7fcc0022ab70>]"
      ]
     },
     "execution_count": 5,
     "metadata": {},
     "output_type": "execute_result"
    }
   ],
   "source": [
    "for person in persons:\n",
    "    [person.add_car(random.choice(cars)) for x in range(0,20)]\n",
    "\n",
    "persons[0].cars"
   ]
  },
  {
   "cell_type": "code",
   "execution_count": 6,
   "metadata": {},
   "outputs": [],
   "source": [
    "from py2neo import Graph, Path, Node, Relationship, NodeMatcher\n",
    "graph = Graph()\n",
    "matcher = NodeMatcher(graph)\n",
    "\n",
    "# clear db\n",
    "graph.evaluate(\"MATCH (n) DETACH DELETE n\")"
   ]
  },
  {
   "cell_type": "code",
   "execution_count": 7,
   "metadata": {},
   "outputs": [],
   "source": [
    "matcher = NodeMatcher(graph)\n",
    "\n",
    "for car in cars:\n",
    "    tx = graph.begin()\n",
    "    node = Node('Car', id=car.id)\n",
    "    tx.create(node)\n",
    "    tx.commit()\n",
    "    \n",
    "for person in persons:\n",
    "    tx = graph.begin()\n",
    "    p = Node('Person', id=person.id)\n",
    "    tx.create(p)\n",
    "    \n",
    "    for car in person.cars:\n",
    "        car_node = matcher.match('Car', id=car.id).first()\n",
    "        rel = Relationship(p, 'OWNED', car_node)\n",
    "        tx.create(rel)\n",
    "    tx.commit()"
   ]
  },
  {
   "cell_type": "code",
   "execution_count": 10,
   "metadata": {},
   "outputs": [],
   "source": [
    "from pymongo import MongoClient\n",
    "\n",
    "mongo = MongoClient()\n",
    "mongodb = mongo['test-db']\n",
    "mongocol = mongodb['ownership']"
   ]
  },
  {
   "cell_type": "code",
   "execution_count": 11,
   "metadata": {},
   "outputs": [],
   "source": [
    "for person in persons:\n",
    "    p_node = {\n",
    "        'id': person.id,\n",
    "        'cars': [car.id for car in person.cars]\n",
    "    }\n",
    "    \n",
    "    mongocol.insert_one(p_node)"
   ]
  },
  {
   "cell_type": "code",
   "execution_count": 18,
   "metadata": {},
   "outputs": [
    {
     "name": "stdout",
     "output_type": "stream",
     "text": [
      "db65deb4-6d51-11e8-a89a-9cb6d0d3a297\n",
      "db633fa6-6d51-11e8-a89a-9cb6d0d3a297\n",
      "db635a0e-6d51-11e8-a89a-9cb6d0d3a297\n",
      "db65109c-6d51-11e8-a89a-9cb6d0d3a297\n",
      "db62bd60-6d51-11e8-a89a-9cb6d0d3a297\n",
      "db65bd58-6d51-11e8-a89a-9cb6d0d3a297\n",
      "db62b18a-6d51-11e8-a89a-9cb6d0d3a297\n",
      "db62f924-6d51-11e8-a89a-9cb6d0d3a297\n",
      "db64c63c-6d51-11e8-a89a-9cb6d0d3a297\n",
      "db62f924-6d51-11e8-a89a-9cb6d0d3a297\n",
      "db65d766-6d51-11e8-a89a-9cb6d0d3a297\n",
      "db654f62-6d51-11e8-a89a-9cb6d0d3a297\n",
      "db65433c-6d51-11e8-a89a-9cb6d0d3a297\n",
      "db63979e-6d51-11e8-a89a-9cb6d0d3a297\n",
      "db63ef32-6d51-11e8-a89a-9cb6d0d3a297\n",
      "db64100c-6d51-11e8-a89a-9cb6d0d3a297\n",
      "db65c938-6d51-11e8-a89a-9cb6d0d3a297\n",
      "db656eca-6d51-11e8-a89a-9cb6d0d3a297\n",
      "db635cf2-6d51-11e8-a89a-9cb6d0d3a297\n",
      "db64fb48-6d51-11e8-a89a-9cb6d0d3a297\n"
     ]
    },
    {
     "data": {
      "text/plain": [
       "0.44601931900251657"
      ]
     },
     "execution_count": 18,
     "metadata": {},
     "output_type": "execute_result"
    }
   ],
   "source": [
    "import timeit\n",
    "def query_neo4j():\n",
    "    car = random.choice(cars)\n",
    "    graph.evaluate(\"MATCH (c:Car) <-[:OWNED]- (p:Person) -[:OWNED]-> (:Car {id:'\" + car.id + \"'}) return p,c\")\n",
    "    \n",
    "timeit.timeit(stmt=query_neo4j, number=20)"
   ]
  },
  {
   "cell_type": "code",
   "execution_count": 29,
   "metadata": {},
   "outputs": [
    {
     "name": "stdout",
     "output_type": "stream",
     "text": [
      "2\n",
      "2\n",
      "1\n",
      "0\n",
      "0\n",
      "2\n",
      "3\n",
      "3\n",
      "2\n",
      "1\n",
      "2\n",
      "2\n",
      "3\n",
      "0\n",
      "4\n",
      "3\n",
      "5\n",
      "5\n",
      "1\n",
      "2\n"
     ]
    },
    {
     "data": {
      "text/plain": [
       "0.05064530100207776"
      ]
     },
     "execution_count": 29,
     "metadata": {},
     "output_type": "execute_result"
    }
   ],
   "source": [
    "def query_mongo():\n",
    "    car = random.choice(cars)\n",
    "    mongocol.find({\"cars\":car.id}).count()\n",
    "    \n",
    "timeit.timeit(stmt=query_mongo, number=20)"
   ]
  },
  {
   "cell_type": "code",
   "execution_count": null,
   "metadata": {},
   "outputs": [],
   "source": []
  }
 ],
 "metadata": {
  "kernelspec": {
   "display_name": "Python 3",
   "language": "python",
   "name": "python3"
  },
  "language_info": {
   "codemirror_mode": {
    "name": "ipython",
    "version": 3
   },
   "file_extension": ".py",
   "mimetype": "text/x-python",
   "name": "python",
   "nbconvert_exporter": "python",
   "pygments_lexer": "ipython3",
   "version": "3.6.5"
  }
 },
 "nbformat": 4,
 "nbformat_minor": 2
}
