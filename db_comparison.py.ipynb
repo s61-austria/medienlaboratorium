{
 "cells": [
  {
   "cell_type": "markdown",
   "metadata": {},
   "source": [
    "# Database Architecture Research\n",
    "\n",
    "This document compares the performance of multiple databases across multiple scenario's.\n",
    "\n",
    "## Scenario 1\n",
    "stel dat:\n",
    "- 1000 auto’s\n",
    "- 5000-10000 locaties per auto’s\n",
    "- 900 personen\n",
    "Haal alle locaties op voor 1 willekeurig persoon\n",
    "\n",
    "## Scenario 2\n",
    "stel dat:\n",
    "- 1000 auto’s\n",
    "- 100 gebruikers\n",
    "iedere gebruiker heeft 20 verschillende auto’s gehad\n",
    "Haal voor een voertuig de eigenaarsgeschiedenis op en vind van al deze gebruikers de huidige voertuigen.\n",
    "Scenario 3\n",
    "stel dat: \n",
    "10 auto’s\n",
    "Insert voor deze 10 auto’s in totaal 2 miljoen location records\n"
   ]
  },
  {
   "cell_type": "code",
   "execution_count": 2,
   "metadata": {},
   "outputs": [],
   "source": [
    "import pandas as pd\n",
    "import numpy as np\n",
    "%matplotlib inline"
   ]
  },
  {
   "cell_type": "code",
   "execution_count": 4,
   "metadata": {},
   "outputs": [
    {
     "data": {
      "text/plain": [
       "2"
      ]
     },
     "execution_count": 4,
     "metadata": {},
     "output_type": "execute_result"
    }
   ],
   "source": [
    "1 + 1"
   ]
  },
  {
   "cell_type": "code",
   "execution_count": null,
   "metadata": {},
   "outputs": [],
   "source": []
  }
 ],
 "metadata": {
  "kernelspec": {
   "display_name": "Python 3",
   "language": "python",
   "name": "python3"
  },
  "language_info": {
   "codemirror_mode": {
    "name": "ipython",
    "version": 3
   },
   "file_extension": ".py",
   "mimetype": "text/x-python",
   "name": "python",
   "nbconvert_exporter": "python",
   "pygments_lexer": "ipython3",
   "version": "3.6.5"
  }
 },
 "nbformat": 4,
 "nbformat_minor": 2
}
