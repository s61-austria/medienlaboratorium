{
 "cells": [
  {
   "cell_type": "code",
   "execution_count": 1,
   "metadata": {},
   "outputs": [],
   "source": [
    "import random\n",
    "from uuid import uuid1\n",
    "import timeit"
   ]
  },
  {
   "cell_type": "code",
   "execution_count": 2,
   "metadata": {},
   "outputs": [],
   "source": [
    "class Car:\n",
    "    def __init__(self):\n",
    "        self.type = 'Car'\n",
    "        self.id = str(uuid1())\n",
    "        self.locations = [Location(self) for x in range(0, 10)]\n",
    "        \n",
    "class Person:\n",
    "    def __init__(self):\n",
    "        self.type = 'Person'\n",
    "        self.id = str(uuid1())\n",
    "        self.cars = []\n",
    "        \n",
    "    def add_car(self, car):\n",
    "        self.cars.append(car)\n",
    "        \n",
    "class Location:\n",
    "    def __init__(self, car):\n",
    "        self.type = 'Location'\n",
    "        self.id = str(uuid1())\n",
    "        self.lat = random.randint(0, 100)\n",
    "        self.lng = random.randint(0, 100)\n",
    "        self.car = car"
   ]
  },
  {
   "cell_type": "code",
   "execution_count": 3,
   "metadata": {},
   "outputs": [],
   "source": [
    "persons = [Person() for x in range(0, 10)]\n",
    "cars = [Car() for x in range(0, 10)]\n",
    "\n",
    "for person in persons:\n",
    "    [person.cars.append(random.choice(cars)) for x in range(0,3)]"
   ]
  },
  {
   "cell_type": "code",
   "execution_count": 4,
   "metadata": {},
   "outputs": [],
   "source": [
    "from py2neo import Graph, Path, Node, Relationship, NodeMatcher\n",
    "graph = Graph()\n",
    "matcher = NodeMatcher(graph)\n",
    "\n",
    "# clear db\n",
    "graph.evaluate(\"MATCH (n) DETACH DELETE n\")"
   ]
  },
  {
   "cell_type": "code",
   "execution_count": 9,
   "metadata": {},
   "outputs": [
    {
     "name": "stdout",
     "output_type": "stream",
     "text": [
      "10\n"
     ]
    }
   ],
   "source": [
    "# Insert cars\n",
    "for car in cars:\n",
    "    tx = graph.begin()\n",
    "    \n",
    "    car_node = Node('Car', id=car.id)\n",
    "    location_nodes = [Node('Location', id=location.id, lat=location.lat, lng=location.lng) for location in car.locations]\n",
    "    tx.create(car_node)\n",
    "    \n",
    "    for location_node in location_nodes:\n",
    "        tx.create(location_node)\n",
    "        rel = Relationship(car_node, 'WAS_AT', location_node)\n",
    "        tx.create(rel)\n",
    "        \n",
    "    tx.commit()\n",
    "\n",
    "print(len(persons))\n",
    "# Insert people\n",
    "for person in persons:\n",
    "    tx = graph.begin()\n",
    "    person_node = Node('Person', id=person.id)\n",
    "    tx.create(person_node)\n",
    "    \n",
    "    for car in person.cars:\n",
    "        car_node = matcher.match('Car', id=car.id).first()\n",
    "        rel = Relationship(person_node, 'OWNED', car_node)\n",
    "        tx.create(rel)\n",
    "    tx.commit()"
   ]
  },
  {
   "cell_type": "code",
   "execution_count": 29,
   "metadata": {},
   "outputs": [
    {
     "data": {
      "text/plain": [
       "0.2904170439869631"
      ]
     },
     "execution_count": 29,
     "metadata": {},
     "output_type": "execute_result"
    }
   ],
   "source": [
    "def neo4j_query():\n",
    "    car= random.choice(cars)\n",
    "    graph.evaluate(\"match (:Car {id: '\" + car.id + \"'}) <-[:OWNED]- (p:Person) -[:OWNED]-> (c:Car) -[:WAS_AT]-> (l:Location) return p, c, l\")\n",
    "\n",
    "timeit.timeit(stmt=neo4j_query, number=20)"
   ]
  },
  {
   "cell_type": "code",
   "execution_count": 32,
   "metadata": {},
   "outputs": [],
   "source": [
    "from pymongo import MongoClient\n",
    "\n",
    "mongo = MongoClient()\n",
    "mongodb = mongo['test-db']\n",
    "person_collection = mongodb['people']\n",
    "car_collection = mongodb['cars']\n",
    "\n",
    "car_collection.drop()\n",
    "person_collection.drop()"
   ]
  },
  {
   "cell_type": "code",
   "execution_count": 33,
   "metadata": {},
   "outputs": [],
   "source": [
    "for person in persons:\n",
    "    person_node = {\n",
    "        'type': 'Person',\n",
    "        'id': person.id,\n",
    "        'cars': [car.id for car in person.cars]\n",
    "    }\n",
    "    person_collection.insert_one(person_node)\n",
    "    \n",
    "for car in cars:\n",
    "    car_node = {\n",
    "        'type': 'Car',\n",
    "        'id': car.id,\n",
    "        'locations': [{\n",
    "            'lat': location.lat,\n",
    "            'lng': location.lng\n",
    "        } for location in car.locations]\n",
    "    }\n",
    "    car_collection.insert_one(car_node)"
   ]
  },
  {
   "cell_type": "code",
   "execution_count": 43,
   "metadata": {},
   "outputs": [
    {
     "name": "stdout",
     "output_type": "stream",
     "text": [
      "ace7beb6-6d5d-11e8-95f9-9cb6d0d3a297\n",
      "ace78a18-6d5d-11e8-95f9-9cb6d0d3a297\n",
      "ace73e28-6d5d-11e8-95f9-9cb6d0d3a297\n",
      "ace72a0a-6d5d-11e8-95f9-9cb6d0d3a297\n",
      "ace79c42-6d5d-11e8-95f9-9cb6d0d3a297\n",
      "ace79c42-6d5d-11e8-95f9-9cb6d0d3a297\n",
      "ace74ed6-6d5d-11e8-95f9-9cb6d0d3a297\n",
      "ace76920-6d5d-11e8-95f9-9cb6d0d3a297\n",
      "ace76920-6d5d-11e8-95f9-9cb6d0d3a297\n",
      "ace79c42-6d5d-11e8-95f9-9cb6d0d3a297\n",
      "ace71240-6d5d-11e8-95f9-9cb6d0d3a297\n",
      "ace779f6-6d5d-11e8-95f9-9cb6d0d3a297\n",
      "ace79c42-6d5d-11e8-95f9-9cb6d0d3a297\n",
      "ace76920-6d5d-11e8-95f9-9cb6d0d3a297\n",
      "ace779f6-6d5d-11e8-95f9-9cb6d0d3a297\n",
      "ace7beb6-6d5d-11e8-95f9-9cb6d0d3a297\n",
      "ace7ae94-6d5d-11e8-95f9-9cb6d0d3a297\n",
      "ace7beb6-6d5d-11e8-95f9-9cb6d0d3a297\n",
      "ace79c42-6d5d-11e8-95f9-9cb6d0d3a297\n",
      "ace76920-6d5d-11e8-95f9-9cb6d0d3a297\n",
      "ace779f6-6d5d-11e8-95f9-9cb6d0d3a297\n",
      "ace79c42-6d5d-11e8-95f9-9cb6d0d3a297\n",
      "ace76920-6d5d-11e8-95f9-9cb6d0d3a297\n",
      "ace779f6-6d5d-11e8-95f9-9cb6d0d3a297\n",
      "ace79c42-6d5d-11e8-95f9-9cb6d0d3a297\n",
      "ace76920-6d5d-11e8-95f9-9cb6d0d3a297\n",
      "ace779f6-6d5d-11e8-95f9-9cb6d0d3a297\n",
      "ace7beb6-6d5d-11e8-95f9-9cb6d0d3a297\n",
      "ace78a18-6d5d-11e8-95f9-9cb6d0d3a297\n",
      "ace73e28-6d5d-11e8-95f9-9cb6d0d3a297\n",
      "ace79c42-6d5d-11e8-95f9-9cb6d0d3a297\n",
      "ace76920-6d5d-11e8-95f9-9cb6d0d3a297\n",
      "ace779f6-6d5d-11e8-95f9-9cb6d0d3a297\n",
      "ace79c42-6d5d-11e8-95f9-9cb6d0d3a297\n",
      "ace71240-6d5d-11e8-95f9-9cb6d0d3a297\n",
      "ace779f6-6d5d-11e8-95f9-9cb6d0d3a297\n",
      "ace79c42-6d5d-11e8-95f9-9cb6d0d3a297\n",
      "ace76920-6d5d-11e8-95f9-9cb6d0d3a297\n",
      "ace779f6-6d5d-11e8-95f9-9cb6d0d3a297\n",
      "ace7beb6-6d5d-11e8-95f9-9cb6d0d3a297\n",
      "ace78a18-6d5d-11e8-95f9-9cb6d0d3a297\n",
      "ace73e28-6d5d-11e8-95f9-9cb6d0d3a297\n",
      "ace79c42-6d5d-11e8-95f9-9cb6d0d3a297\n",
      "ace76920-6d5d-11e8-95f9-9cb6d0d3a297\n",
      "ace779f6-6d5d-11e8-95f9-9cb6d0d3a297\n",
      "ace74ed6-6d5d-11e8-95f9-9cb6d0d3a297\n",
      "ace76920-6d5d-11e8-95f9-9cb6d0d3a297\n",
      "ace76920-6d5d-11e8-95f9-9cb6d0d3a297\n",
      "ace72a0a-6d5d-11e8-95f9-9cb6d0d3a297\n",
      "ace79c42-6d5d-11e8-95f9-9cb6d0d3a297\n",
      "ace79c42-6d5d-11e8-95f9-9cb6d0d3a297\n",
      "ace79c42-6d5d-11e8-95f9-9cb6d0d3a297\n",
      "ace76920-6d5d-11e8-95f9-9cb6d0d3a297\n",
      "ace779f6-6d5d-11e8-95f9-9cb6d0d3a297\n",
      "ace74ed6-6d5d-11e8-95f9-9cb6d0d3a297\n",
      "ace76920-6d5d-11e8-95f9-9cb6d0d3a297\n",
      "ace76920-6d5d-11e8-95f9-9cb6d0d3a297\n",
      "ace74ed6-6d5d-11e8-95f9-9cb6d0d3a297\n",
      "ace76920-6d5d-11e8-95f9-9cb6d0d3a297\n",
      "ace76920-6d5d-11e8-95f9-9cb6d0d3a297\n"
     ]
    },
    {
     "data": {
      "text/plain": [
       "0.1493966720008757"
      ]
     },
     "execution_count": 43,
     "metadata": {},
     "output_type": "execute_result"
    }
   ],
   "source": [
    "def mongo_query():\n",
    "    car = random.choice(cars)\n",
    "    person = person_collection.find({\"cars\": car.id})[0]\n",
    "    \n",
    "    locations = []\n",
    "    \n",
    "    for car_id in person['cars']:\n",
    "        [locations.append(x) for x in car_collection.find({\"id\": car_id})]\n",
    "    \n",
    "timeit.timeit(stmt=mongo_query, number=20)"
   ]
  }
 ],
 "metadata": {
  "kernelspec": {
   "display_name": "Python 3",
   "language": "python",
   "name": "python3"
  },
  "language_info": {
   "codemirror_mode": {
    "name": "ipython",
    "version": 3
   },
   "file_extension": ".py",
   "mimetype": "text/x-python",
   "name": "python",
   "nbconvert_exporter": "python",
   "pygments_lexer": "ipython3",
   "version": "3.6.5"
  }
 },
 "nbformat": 4,
 "nbformat_minor": 2
}
